{
 "cells": [
  {
   "cell_type": "code",
   "execution_count": 1,
   "metadata": {},
   "outputs": [],
   "source": [
    "import pandas as pd\n",
    "import random\n",
    "from datetime import datetime, timedelta\n",
    "\n",
    "# Creating a sample sales dataset\n",
    "data = {\n",
    "    'Date': [datetime(2023, random.randint(1, 12), random.randint(1, 28)) for _ in range(100)],\n",
    "    'Product': [random.choice(['A', 'B', 'C']) for _ in range(100)],\n",
    "    'Category': [random.choice(['Electronics', 'Clothing', 'Books']) for _ in range(100)],\n",
    "    'Quantity': [random.randint(1, 10) for _ in range(100)],\n",
    "    'Price': [random.uniform(10, 100) for _ in range(100)]\n",
    "}"
   ]
  },
  {
   "cell_type": "code",
   "execution_count": 2,
   "metadata": {},
   "outputs": [],
   "source": [
    "df = pd.DataFrame(data)"
   ]
  },
  {
   "cell_type": "markdown",
   "metadata": {},
   "source": [
    "# Grouping by Product and Calculating Total Sales"
   ]
  },
  {
   "cell_type": "markdown",
   "metadata": {},
   "source": [
    "### Group the data by the 'Product' column."
   ]
  },
  {
   "cell_type": "code",
   "execution_count": 9,
   "metadata": {},
   "outputs": [
    {
     "data": {
      "text/html": [
       "<div>\n",
       "<style scoped>\n",
       "    .dataframe tbody tr th:only-of-type {\n",
       "        vertical-align: middle;\n",
       "    }\n",
       "\n",
       "    .dataframe tbody tr th {\n",
       "        vertical-align: top;\n",
       "    }\n",
       "\n",
       "    .dataframe thead th {\n",
       "        text-align: right;\n",
       "    }\n",
       "</style>\n",
       "<table border=\"1\" class=\"dataframe\">\n",
       "  <thead>\n",
       "    <tr style=\"text-align: right;\">\n",
       "      <th></th>\n",
       "      <th>Date</th>\n",
       "      <th>Product</th>\n",
       "      <th>Category</th>\n",
       "      <th>Quantity</th>\n",
       "      <th>Price</th>\n",
       "    </tr>\n",
       "  </thead>\n",
       "  <tbody>\n",
       "    <tr>\n",
       "      <th>0</th>\n",
       "      <td>2023-08-25</td>\n",
       "      <td>B</td>\n",
       "      <td>Books</td>\n",
       "      <td>6</td>\n",
       "      <td>41.179916</td>\n",
       "    </tr>\n",
       "    <tr>\n",
       "      <th>1</th>\n",
       "      <td>2023-04-09</td>\n",
       "      <td>A</td>\n",
       "      <td>Clothing</td>\n",
       "      <td>5</td>\n",
       "      <td>60.637837</td>\n",
       "    </tr>\n",
       "    <tr>\n",
       "      <th>2</th>\n",
       "      <td>2023-09-09</td>\n",
       "      <td>C</td>\n",
       "      <td>Books</td>\n",
       "      <td>4</td>\n",
       "      <td>52.726407</td>\n",
       "    </tr>\n",
       "    <tr>\n",
       "      <th>3</th>\n",
       "      <td>2023-12-08</td>\n",
       "      <td>C</td>\n",
       "      <td>Electronics</td>\n",
       "      <td>5</td>\n",
       "      <td>15.073255</td>\n",
       "    </tr>\n",
       "    <tr>\n",
       "      <th>4</th>\n",
       "      <td>2023-11-27</td>\n",
       "      <td>A</td>\n",
       "      <td>Books</td>\n",
       "      <td>9</td>\n",
       "      <td>77.340840</td>\n",
       "    </tr>\n",
       "    <tr>\n",
       "      <th>...</th>\n",
       "      <td>...</td>\n",
       "      <td>...</td>\n",
       "      <td>...</td>\n",
       "      <td>...</td>\n",
       "      <td>...</td>\n",
       "    </tr>\n",
       "    <tr>\n",
       "      <th>95</th>\n",
       "      <td>2023-02-07</td>\n",
       "      <td>A</td>\n",
       "      <td>Clothing</td>\n",
       "      <td>1</td>\n",
       "      <td>98.708900</td>\n",
       "    </tr>\n",
       "    <tr>\n",
       "      <th>96</th>\n",
       "      <td>2023-08-10</td>\n",
       "      <td>B</td>\n",
       "      <td>Electronics</td>\n",
       "      <td>2</td>\n",
       "      <td>21.154565</td>\n",
       "    </tr>\n",
       "    <tr>\n",
       "      <th>97</th>\n",
       "      <td>2023-09-15</td>\n",
       "      <td>C</td>\n",
       "      <td>Electronics</td>\n",
       "      <td>10</td>\n",
       "      <td>69.192607</td>\n",
       "    </tr>\n",
       "    <tr>\n",
       "      <th>98</th>\n",
       "      <td>2023-04-25</td>\n",
       "      <td>B</td>\n",
       "      <td>Books</td>\n",
       "      <td>3</td>\n",
       "      <td>49.002747</td>\n",
       "    </tr>\n",
       "    <tr>\n",
       "      <th>99</th>\n",
       "      <td>2023-06-14</td>\n",
       "      <td>A</td>\n",
       "      <td>Clothing</td>\n",
       "      <td>10</td>\n",
       "      <td>64.466072</td>\n",
       "    </tr>\n",
       "  </tbody>\n",
       "</table>\n",
       "<p>100 rows × 5 columns</p>\n",
       "</div>"
      ],
      "text/plain": [
       "         Date Product     Category  Quantity      Price\n",
       "0  2023-08-25       B        Books         6  41.179916\n",
       "1  2023-04-09       A     Clothing         5  60.637837\n",
       "2  2023-09-09       C        Books         4  52.726407\n",
       "3  2023-12-08       C  Electronics         5  15.073255\n",
       "4  2023-11-27       A        Books         9  77.340840\n",
       "..        ...     ...          ...       ...        ...\n",
       "95 2023-02-07       A     Clothing         1  98.708900\n",
       "96 2023-08-10       B  Electronics         2  21.154565\n",
       "97 2023-09-15       C  Electronics        10  69.192607\n",
       "98 2023-04-25       B        Books         3  49.002747\n",
       "99 2023-06-14       A     Clothing        10  64.466072\n",
       "\n",
       "[100 rows x 5 columns]"
      ]
     },
     "execution_count": 9,
     "metadata": {},
     "output_type": "execute_result"
    }
   ],
   "source": [
    "df"
   ]
  },
  {
   "cell_type": "markdown",
   "metadata": {},
   "source": [
    "### Calculate the total sales (sum of Price * Quantity) for each product."
   ]
  },
  {
   "cell_type": "markdown",
   "metadata": {},
   "source": []
  }
 ],
 "metadata": {
  "kernelspec": {
   "display_name": "mlenv",
   "language": "python",
   "name": "python3"
  },
  "language_info": {
   "codemirror_mode": {
    "name": "ipython",
    "version": 3
   },
   "file_extension": ".py",
   "mimetype": "text/x-python",
   "name": "python",
   "nbconvert_exporter": "python",
   "pygments_lexer": "ipython3",
   "version": "3.10.13"
  }
 },
 "nbformat": 4,
 "nbformat_minor": 2
}
